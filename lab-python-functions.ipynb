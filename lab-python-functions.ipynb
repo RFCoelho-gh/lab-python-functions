{
 "cells": [
  {
   "cell_type": "markdown",
   "id": "25d7736c-ba17-4aff-b6bb-66eba20fbf4e",
   "metadata": {},
   "source": [
    "# Lab | Functions"
   ]
  },
  {
   "cell_type": "markdown",
   "id": "0c581062-8967-4d93-b06e-62833222f930",
   "metadata": {
    "tags": []
   },
   "source": [
    "## Exercise: Managing Customer Orders with Functions\n",
    "\n",
    "In the previous exercise, you improved the code for managing customer orders by using loops and flow control. Now, let's take it a step further and refactor the code by introducing functions.\n",
    "\n",
    "Follow the steps below to complete the exercise:\n",
    "\n",
    "1. Define a function named `initialize_inventory` that takes `products` as a parameter. Inside the function, implement the code for initializing the inventory dictionary using a loop and user input.\n",
    "\n",
    "2. Define a function named `get_customer_orders` that takes no parameters. Inside the function, implement the code for prompting the user to enter the product names using a loop. The function should return the `customer_orders` set.\n",
    "\n",
    "3. Define a function named `update_inventory` that takes `customer_orders` and `inventory` as parameters. Inside the function, implement the code for updating the inventory dictionary based on the customer orders.\n",
    "\n",
    "4. Define a function named `calculate_order_statistics` that takes `customer_orders` and `products` as parameters. Inside the function, implement the code for calculating the order statistics (total products ordered, and percentage of unique products ordered). The function should return these values.\n",
    "\n",
    "5. Define a function named `print_order_statistics` that takes `order_statistics` as a parameter. Inside the function, implement the code for printing the order statistics.\n",
    "\n",
    "6. Define a function named `print_updated_inventory` that takes `inventory` as a parameter. Inside the function, implement the code for printing the updated inventory.\n",
    "\n",
    "7. Call the functions in the appropriate sequence to execute the program and manage customer orders.\n",
    "\n",
    "Hints for functions:\n",
    "\n",
    "- Consider the input parameters required for each function and their return values.\n",
    "- Utilize function parameters and return values to transfer data between functions.\n",
    "- Test your functions individually to ensure they work correctly.\n",
    "\n",
    "\n"
   ]
  },
  {
   "cell_type": "code",
   "execution_count": 26,
   "id": "e61f5907-a891-4cb8-890c-57298bb0ce72",
   "metadata": {},
   "outputs": [],
   "source": [
    "products = [\"t-shirt\", \"mug\", \"hat\", \"book\", \"keychain\"]\n",
    "customer_orders = set()"
   ]
  },
  {
   "cell_type": "code",
   "execution_count": 27,
   "id": "45921264-9968-435e-b066-9c7935df756b",
   "metadata": {},
   "outputs": [],
   "source": [
    "## Exercise 1\n",
    "\n",
    "products = [\"t-shirt\", \"mug\", \"hat\", \"book\", \"keychain\"]\n",
    "\n",
    "def initialize_inventory(products):\n",
    "    returnInventory = {}\n",
    "    for p in products:\n",
    "        print(\"Please enter the quantity of each product available in the inventory: \"+products[products.index(p)])\n",
    "        givenInput = int(input(\"Quantity of item of name: \"+p))\n",
    "        tempProduct = products[products.index(p)]\n",
    "        returnInventory[tempProduct] = givenInput\n",
    "    return returnInventory\n",
    "        \n",
    "        \n",
    "#initialize_inventory(products)"
   ]
  },
  {
   "cell_type": "code",
   "execution_count": 28,
   "id": "b2adc3f7-b363-447e-8c3d-905dee25029e",
   "metadata": {},
   "outputs": [],
   "source": [
    "## Exercise 2\n",
    "\n",
    "def get_customer_orders():\n",
    "    tempFlag = 0\n",
    "    while tempFlag == 0:\n",
    "        customer_orders = set()\n",
    "        tempProduct = input(\"Please enter the name of a product that you want to add.)\").lower()\n",
    "        if tempProduct in products:\n",
    "            customer_orders.add(tempProduct)\n",
    "        else:\n",
    "            print(\"This product is not in our assortment. Please select a different product.\")\n",
    "        userConfirmation = input(\"Do you want to continue shopping?\")\n",
    "        if userConfirmation.lower() == \"no\":\n",
    "            tempFlag = 1\n",
    "    return customer_orders\n",
    "\n",
    "#get_customer_orders()"
   ]
  },
  {
   "cell_type": "code",
   "execution_count": 29,
   "id": "1229f283-bee2-425b-b7d7-b3a6b3808000",
   "metadata": {},
   "outputs": [],
   "source": [
    "## Exercise 3\n",
    "# Define a function named update_inventory that takes customer_orders and inventory as parameters. \n",
    "# Inside the function, implement the code for updating the inventory dictionary based on the customer orders.\n",
    "\n",
    "def update_inventory(customer_orders, inventory):\n",
    "    for c in customer_orders:\n",
    "        print(c)\n",
    "        print(inventory[c])\n",
    "        inventory[c] -= 1"
   ]
  },
  {
   "cell_type": "code",
   "execution_count": 30,
   "id": "a05cafc5-7420-42ac-b585-a13f87daab18",
   "metadata": {},
   "outputs": [],
   "source": [
    "## Exercise 4\n",
    "# Define a function named calculate_order_statistics that takes customer_orders and products as parameters.\n",
    "# Inside the function, implement the code for calculating the order statistics (total products ordered, and percentage of unique products ordered).\n",
    "#The function should return these values.\n",
    "\n",
    "def calculate_order_statistics(customer_orders, products):\n",
    "    totalProductsOrdered = len(customer_orders)\n",
    "    percentageUniqueProducts = totalProductsOrdered / len(products) * 100\n",
    "    return [totalProductsOrdered, percentageUniqueProducts]\n"
   ]
  },
  {
   "cell_type": "code",
   "execution_count": 31,
   "id": "568e5b7b-2de4-4ba8-9d7c-189059074bd6",
   "metadata": {},
   "outputs": [],
   "source": [
    "## Exercise 5\n",
    "# Define a function named print_order_statistics that takes order_statistics as a parameter. \n",
    "# Inside the function, implement the code for printing the order statistics.\n",
    "\n",
    "def print_order_statistics(order_statistics):\n",
    "    print(\"Order Statistics:\")\n",
    "    print(\"Total Products Ordered: \"+str(order_statistics[0]))\n",
    "    print(\"Percentage of Unique Products Ordered: \"+str(order_statistics[1])+\"%\")"
   ]
  },
  {
   "cell_type": "code",
   "execution_count": 34,
   "id": "ee122610-febb-48f1-b873-34063fab3fc7",
   "metadata": {},
   "outputs": [
    {
     "name": "stdout",
     "output_type": "stream",
     "text": [
      "Please enter the quantity of each product available in the inventory: t-shirt\n"
     ]
    },
    {
     "name": "stdin",
     "output_type": "stream",
     "text": [
      "Quantity of item of name: t-shirt 1\n"
     ]
    },
    {
     "name": "stdout",
     "output_type": "stream",
     "text": [
      "Please enter the quantity of each product available in the inventory: mug\n"
     ]
    },
    {
     "name": "stdin",
     "output_type": "stream",
     "text": [
      "Quantity of item of name: mug 2\n"
     ]
    },
    {
     "name": "stdout",
     "output_type": "stream",
     "text": [
      "Please enter the quantity of each product available in the inventory: hat\n"
     ]
    },
    {
     "name": "stdin",
     "output_type": "stream",
     "text": [
      "Quantity of item of name: hat 3\n"
     ]
    },
    {
     "name": "stdout",
     "output_type": "stream",
     "text": [
      "Please enter the quantity of each product available in the inventory: book\n"
     ]
    },
    {
     "name": "stdin",
     "output_type": "stream",
     "text": [
      "Quantity of item of name: book 4\n"
     ]
    },
    {
     "name": "stdout",
     "output_type": "stream",
     "text": [
      "Please enter the quantity of each product available in the inventory: keychain\n"
     ]
    },
    {
     "name": "stdin",
     "output_type": "stream",
     "text": [
      "Quantity of item of name: keychain 5\n"
     ]
    },
    {
     "name": "stdout",
     "output_type": "stream",
     "text": [
      "{'t-shirt': 1, 'mug': 2, 'hat': 3, 'book': 4, 'keychain': 5}\n"
     ]
    },
    {
     "name": "stdin",
     "output_type": "stream",
     "text": [
      "Please enter the name of a product that you want to add.) hat\n",
      "Do you want to continue shopping? Yes\n",
      "Please enter the name of a product that you want to add.) book\n",
      "Do you want to continue shopping? no\n"
     ]
    },
    {
     "name": "stdout",
     "output_type": "stream",
     "text": [
      "book\n",
      "4\n",
      "Order Statistics:\n",
      "Total Products Ordered: 1\n",
      "Percentage of Unique Products Ordered: 20.0%\n"
     ]
    }
   ],
   "source": [
    "baseInventory = initialize_inventory(products)\n",
    "\n",
    "print(baseInventory)\n",
    "\n",
    "newOrder = get_customer_orders()\n",
    "\n",
    "update_inventory(newOrder, baseInventory)\n",
    "\n",
    "orderStats = calculate_order_statistics(newOrder, products)\n",
    "\n",
    "print_order_statistics(orderStats)\n",
    "\n",
    "#print_updated_inventory(baseInventory)"
   ]
  },
  {
   "cell_type": "markdown",
   "id": "1b6e9dfd-a192-4120-b9b6-1ee5e0b7eedc",
   "metadata": {},
   "source": [
    "When defining functions\n",
    "\n",
    "def myFunction(x, y=False):\n",
    "\n",
    "you can pass a Default value and therefore create situational or optional arguments, instead of positional and obligatory ones"
   ]
  },
  {
   "cell_type": "code",
   "execution_count": 41,
   "id": "9a2a892b-7a17-455a-9d5d-b1ebd5674f0d",
   "metadata": {},
   "outputs": [],
   "source": [
    "## Exercise 6\n",
    "# Define a function named print_updated_inventory that takes inventory as a parameter.\n",
    "# Inside the function, implement the code for printing the updated inventory.\n",
    "\n",
    "def print_updated_inventory(inventory):\n",
    "    print(\"Update Inventory:\")\n",
    "    for i,j in inventory.items():\n",
    "        print(f'{i}: {j} units in stock.')"
   ]
  },
  {
   "cell_type": "code",
   "execution_count": 40,
   "id": "ef44780e-9888-4c12-a6dc-2f841a6004c1",
   "metadata": {},
   "outputs": [
    {
     "name": "stdout",
     "output_type": "stream",
     "text": [
      "Update Inventory:\n",
      "t-shirt: 1 units in stock.\n",
      "mug: 2 units in stock.\n",
      "hat: 3 units in stock.\n",
      "book: 3 units in stock.\n",
      "keychain: 5 units in stock.\n"
     ]
    }
   ],
   "source": [
    "print_updated_inventory(baseInventory)"
   ]
  },
  {
   "cell_type": "code",
   "execution_count": 43,
   "id": "de07aba1-05f2-4c61-b163-9c4ac215e43c",
   "metadata": {},
   "outputs": [
    {
     "name": "stdout",
     "output_type": "stream",
     "text": [
      "{'t-shirt': 1, 'mug': 2, 'hat': 3, 'book': 3, 'keychain': 5}\n",
      "dict_values([1, 2, 3, 3, 5])\n"
     ]
    }
   ],
   "source": [
    "print(baseInventory)\n",
    "print(baseInventory.values())"
   ]
  },
  {
   "cell_type": "code",
   "execution_count": 2,
   "id": "32c5cb4b-898c-42d7-b21f-4e667e7d2d89",
   "metadata": {},
   "outputs": [
    {
     "name": "stdout",
     "output_type": "stream",
     "text": [
      "25\n"
     ]
    }
   ],
   "source": [
    "def function(number):\n",
    "    return number ** 2\n",
    "\n",
    "number_squared = function(5)\n",
    "print(number_squared)"
   ]
  },
  {
   "cell_type": "code",
   "execution_count": 6,
   "id": "c71e700e-644c-4d23-ad79-4aa6126c469d",
   "metadata": {},
   "outputs": [],
   "source": [
    "import random\n",
    "\n",
    "#print(random.randint(3, 9))\n",
    "\n",
    "def XdY(x, y=6):\n",
    "    finalResult = 0\n",
    "    diceRolled = []\n",
    "    for i in range(x):\n",
    "        #tempRoll = 0\n",
    "        tempRoll = random.randint(1,y)\n",
    "        diceRolled.append(tempRoll)\n",
    "        #print(tempRoll)\n",
    "        finalResult += tempRoll\n",
    "    return finalResult, diceRolled"
   ]
  },
  {
   "cell_type": "code",
   "execution_count": 7,
   "id": "4be45ff2-1981-485c-84eb-9bc8efc5bc27",
   "metadata": {},
   "outputs": [
    {
     "data": {
      "text/plain": [
       "(16, [12, 4])"
      ]
     },
     "execution_count": 7,
     "metadata": {},
     "output_type": "execute_result"
    }
   ],
   "source": [
    "XdY(2,20)"
   ]
  },
  {
   "cell_type": "code",
   "execution_count": 8,
   "id": "8e67216a-cba8-4c47-9352-8c65c43c7094",
   "metadata": {},
   "outputs": [
    {
     "data": {
      "text/plain": [
       "7"
      ]
     },
     "execution_count": 8,
     "metadata": {},
     "output_type": "execute_result"
    }
   ],
   "source": [
    "XdY(3,20)[1][0]"
   ]
  },
  {
   "cell_type": "code",
   "execution_count": null,
   "id": "8e6d934a-9e5f-4074-9296-5a7a8668f9c4",
   "metadata": {},
   "outputs": [],
   "source": []
  }
 ],
 "metadata": {
  "kernelspec": {
   "display_name": "Python 3 (ipykernel)",
   "language": "python",
   "name": "python3"
  },
  "language_info": {
   "codemirror_mode": {
    "name": "ipython",
    "version": 3
   },
   "file_extension": ".py",
   "mimetype": "text/x-python",
   "name": "python",
   "nbconvert_exporter": "python",
   "pygments_lexer": "ipython3",
   "version": "3.12.4"
  }
 },
 "nbformat": 4,
 "nbformat_minor": 5
}
